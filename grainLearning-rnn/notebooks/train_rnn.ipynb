{
 "cells": [
  {
   "cell_type": "markdown",
   "id": "c064b8dd-84ac-4da4-9701-9cc296414650",
   "metadata": {},
   "source": [
    "# Tutorial: How to train a rnn using grainlearning.rnn"
   ]
  },
  {
   "cell_type": "markdown",
   "id": "f0d3daa5-ced1-4a89-9a27-4efcaf88f886",
   "metadata": {},
   "source": [
    "## ⚙️ Install grainlearning package\n",
    "(Not necessary if you are running jupyter-lab on an environment where grainlearning and rnn dependencies are installed)"
   ]
  },
  {
   "cell_type": "code",
   "execution_count": null,
   "id": "4e11d1c8-a9a2-47dd-81cd-59369c5b79c6",
   "metadata": {},
   "outputs": [],
   "source": [
    "%pip install grainlearning[rnn]"
   ]
  },
  {
   "attachments": {},
   "cell_type": "markdown",
   "id": "159e5115",
   "metadata": {},
   "source": [
    "We define a dictionary `my_config` containing the values of several parameters that are needed for preparing the data, creating the RNN model and training it. Extensive lists of the keywords and the meaning of the values for [preparing data]() and [preparing model and training](https://grainlearning.readthedocs.io/en/latest/api.html#grainlearning.rnn.train.get_default_config)."
   ]
  },
  {
   "cell_type": "code",
   "execution_count": 6,
   "id": "fcf30f75-1e05-4d04-93be-016a5bba7c89",
   "metadata": {},
   "outputs": [],
   "source": [
    "# dictionary with the configuration of the training\n",
    "my_config = {\n",
    "        'raw_data': '../data/triaxial_compression_variable_input.hdf5',\n",
    "        'pressure': 'All',\n",
    "        'experiment_type': 'drained',\n",
    "        'add_pressure': True,\n",
    "        'add_e0': True,\n",
    "        'train_frac': 0.7,\n",
    "        'val_frac': 0.15,\n",
    "        'window_size': 20,\n",
    "        'window_step': 1,\n",
    "        'patience': 25,\n",
    "        'epochs': 10,\n",
    "        'learning_rate': 1e-4,\n",
    "        'lstm_units': 250,\n",
    "        'dense_units': 250,\n",
    "        'batch_size': 256,\n",
    "        'standardize_outputs': True,\n",
    "        'save_weights_only': True\n",
    "    }"
   ]
  },
  {
   "attachments": {},
   "cell_type": "markdown",
   "id": "b3eafc2e",
   "metadata": {},
   "source": [
    "Creating a preprocessor of the data. We choose the preprocessor that is tailored for triaxial compression experiments."
   ]
  },
  {
   "cell_type": "code",
   "execution_count": 7,
   "id": "cd637abc",
   "metadata": {},
   "outputs": [
    {
     "name": "stderr",
     "output_type": "stream",
     "text": [
      "No add_experiment_type specified in config, using default True.\n",
      "No pad_length specified in config, using default 0.\n"
     ]
    }
   ],
   "source": [
    "from grainlearning.rnn import preprocessor\n",
    "preprocessor_TC = preprocessor.PreprocessorTriaxialCompression(**my_config)"
   ]
  },
  {
   "cell_type": "code",
   "execution_count": 8,
   "id": "468f8134-1145-4eab-8636-b83afc028e9f",
   "metadata": {},
   "outputs": [
    {
     "name": "stderr",
     "output_type": "stream",
     "text": [
      "No pad_length specified in config, using default 0.\n",
      "2025-04-29 11:23:14.352410: I tensorflow/core/framework/local_rendezvous.cc:407] Local rendezvous is aborting with status: OUT_OF_RANGE: End of sequence\n"
     ]
    },
    {
     "name": "stdout",
     "output_type": "stream",
     "text": [
      "Epoch 1/10\n"
     ]
    },
    {
     "name": "stderr",
     "output_type": "stream",
     "text": [
      "2025-04-29 11:23:14.593139: I tensorflow/core/framework/local_rendezvous.cc:407] Local rendezvous is aborting with status: OUT_OF_RANGE: End of sequence\n"
     ]
    },
    {
     "name": "stdout",
     "output_type": "stream",
     "text": [
      "\u001b[1m2214/2214\u001b[0m \u001b[32m━━━━━━━━━━━━━━━━━━━━\u001b[0m\u001b[37m\u001b[0m \u001b[1m144s\u001b[0m 65ms/step - loss: 0.5034 - mae: 0.4908 - val_loss: 0.1127 - val_mae: 0.2161\n",
      "Epoch 2/10\n",
      "\u001b[1m2214/2214\u001b[0m \u001b[32m━━━━━━━━━━━━━━━━━━━━\u001b[0m\u001b[37m\u001b[0m \u001b[1m161s\u001b[0m 73ms/step - loss: 0.1037 - mae: 0.2040 - val_loss: 0.0899 - val_mae: 0.1851\n",
      "Epoch 3/10\n",
      "\u001b[1m2214/2214\u001b[0m \u001b[32m━━━━━━━━━━━━━━━━━━━━\u001b[0m\u001b[37m\u001b[0m \u001b[1m160s\u001b[0m 72ms/step - loss: 0.0769 - mae: 0.1684 - val_loss: 0.0745 - val_mae: 0.1612\n",
      "Epoch 4/10\n",
      "\u001b[1m2214/2214\u001b[0m \u001b[32m━━━━━━━━━━━━━━━━━━━━\u001b[0m\u001b[37m\u001b[0m \u001b[1m160s\u001b[0m 72ms/step - loss: 0.0693 - mae: 0.1579 - val_loss: 0.0674 - val_mae: 0.1518\n",
      "Epoch 5/10\n",
      "\u001b[1m2214/2214\u001b[0m \u001b[32m━━━━━━━━━━━━━━━━━━━━\u001b[0m\u001b[37m\u001b[0m \u001b[1m164s\u001b[0m 74ms/step - loss: 0.0577 - mae: 0.1438 - val_loss: 0.0489 - val_mae: 0.1208\n",
      "Epoch 6/10\n",
      "\u001b[1m2214/2214\u001b[0m \u001b[32m━━━━━━━━━━━━━━━━━━━━\u001b[0m\u001b[37m\u001b[0m \u001b[1m158s\u001b[0m 71ms/step - loss: 0.0398 - mae: 0.1179 - val_loss: 0.0359 - val_mae: 0.0969\n",
      "Epoch 7/10\n",
      "\u001b[1m2214/2214\u001b[0m \u001b[32m━━━━━━━━━━━━━━━━━━━━\u001b[0m\u001b[37m\u001b[0m \u001b[1m162s\u001b[0m 73ms/step - loss: 0.0277 - mae: 0.0964 - val_loss: 0.0287 - val_mae: 0.0835\n",
      "Epoch 8/10\n",
      "\u001b[1m2214/2214\u001b[0m \u001b[32m━━━━━━━━━━━━━━━━━━━━\u001b[0m\u001b[37m\u001b[0m \u001b[1m160s\u001b[0m 72ms/step - loss: 0.0225 - mae: 0.0851 - val_loss: 0.0251 - val_mae: 0.0774\n",
      "Epoch 9/10\n",
      "\u001b[1m2214/2214\u001b[0m \u001b[32m━━━━━━━━━━━━━━━━━━━━\u001b[0m\u001b[37m\u001b[0m \u001b[1m163s\u001b[0m 74ms/step - loss: 0.0190 - mae: 0.0776 - val_loss: 0.0186 - val_mae: 0.0681\n",
      "Epoch 10/10\n",
      "\u001b[1m2214/2214\u001b[0m \u001b[32m━━━━━━━━━━━━━━━━━━━━\u001b[0m\u001b[37m\u001b[0m \u001b[1m158s\u001b[0m 71ms/step - loss: 0.0148 - mae: 0.0685 - val_loss: 0.0149 - val_mae: 0.0588\n",
      "\u001b[1m476/476\u001b[0m \u001b[32m━━━━━━━━━━━━━━━━━━━━\u001b[0m\u001b[37m\u001b[0m \u001b[1m17s\u001b[0m 35ms/step - loss: 0.0160 - mae: 0.0608\n",
      "test loss = 0.01595529355108738, test mae = 0.06091604381799698\n"
     ]
    }
   ],
   "source": [
    "import grainlearning.rnn.train as train_rnn\n",
    "history_simple = train_rnn.train_without_wandb(preprocessor_TC, config=my_config)"
   ]
  },
  {
   "cell_type": "markdown",
   "id": "4f2e5d15-7e95-4fc5-a05d-0dadbd52177d",
   "metadata": {},
   "source": [
    "You have trained your first model! 🥳️\n",
    "\n",
    "Note that we have only ran 10 epochs, you can change that in the config dictionary that we defined."
   ]
  },
  {
   "cell_type": "markdown",
   "id": "51a4f455-cff8-4c21-a19c-7f233a36882c",
   "metadata": {},
   "source": [
    "### 📉 Plot the training history "
   ]
  },
  {
   "cell_type": "markdown",
   "id": "d5db6741-0fd6-478b-9c1f-fa2b1b0c6e1e",
   "metadata": {},
   "source": [
    "⚙️ First, install dependencies for ploting on jupyter notebooks"
   ]
  },
  {
   "attachments": {},
   "cell_type": "markdown",
   "id": "4387d65b-2252-4288-b469-50461f715832",
   "metadata": {},
   "source": [
    "`pip install matplotlib`"
   ]
  },
  {
   "cell_type": "code",
   "execution_count": 9,
   "id": "c05631e3-a9ec-44cb-9a52-abaa3405edf8",
   "metadata": {},
   "outputs": [
    {
     "data": {
      "text/plain": [
       "<matplotlib.legend.Legend at 0x328573f70>"
      ]
     },
     "execution_count": 9,
     "metadata": {},
     "output_type": "execute_result"
    },
    {
     "data": {
      "image/png": "[encoded data removed]",
      "text/plain": [
       "<Figure size 640x480 with 1 Axes>"
      ]
     },
     "metadata": {},
     "output_type": "display_data"
    }
   ],
   "source": [
    "%matplotlib inline\n",
    "from matplotlib import pyplot as plt\n",
    "plt.plot(history_simple.history['loss'], label='training loss')\n",
    "plt.plot(history_simple.history['val_loss'], label='validation loss')\n",
    "plt.xlabel(\"epoch\"); plt.ylabel(\"MSE\")\n",
    "plt.legend()"
   ]
  }
 ],
 "metadata": {
  "kernelspec": {
   "display_name": "grainlearning-rnn",
   "language": "python",
   "name": "python3"
  },
  "language_info": {
   "codemirror_mode": {
    "name": "ipython",
    "version": 3
   },
   "file_extension": ".py",
   "mimetype": "text/x-python",
   "name": "python",
   "nbconvert_exporter": "python",
   "pygments_lexer": "ipython3",
   "version": "3.10.17"
  }
 },
 "nbformat": 4,
 "nbformat_minor": 5
}
